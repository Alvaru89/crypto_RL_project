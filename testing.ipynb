{
 "cells": [
  {
   "cell_type": "markdown",
   "metadata": {},
   "source": [
    "ML summary"
   ]
  },
  {
   "cell_type": "markdown",
   "metadata": {},
   "source": [
    "1st attempt\n",
    "\n",
    "80/20 split\n",
    "window=1\n",
    "1 model per variable to predict\n",
    "\n",
    "RMSE:\n",
    "5.130845030574543\n",
    "0.04100996914412226\n",
    "0.035405384822692704\n",
    "0.006016002868956268\n",
    "0.047757749997126335\n",
    "0.4000253337227069\n",
    "0.05229695748076511\n",
    "0.12663493305660345"
   ]
  },
  {
   "cell_type": "markdown",
   "metadata": {},
   "source": [
    "2nd attempt\n",
    "\n",
    "80/20 split\n",
    "window =40\n",
    "1 model per variable to predict\n",
    "without filtering per coin!\n",
    "\n",
    "RMSE:\n",
    "2.5080562162709352\n",
    "0.018498463968929926\n",
    "0.01604757835944891\n",
    "0.006080501587157533\n",
    "0.023902443775367654\n",
    "0.18087269077170284\n",
    "0.024959497899357617\n",
    "0.1250543435280786"
   ]
  }
 ],
 "metadata": {
  "kernelspec": {
   "display_name": "Python [conda env:ironhack_env]",
   "language": "python",
   "name": "conda-env-ironhack_env-py"
  },
  "language_info": {
   "codemirror_mode": {
    "name": "ipython",
    "version": 3
   },
   "file_extension": ".py",
   "mimetype": "text/x-python",
   "name": "python",
   "nbconvert_exporter": "python",
   "pygments_lexer": "ipython3",
   "version": "3.8.5"
  }
 },
 "nbformat": 4,
 "nbformat_minor": 4
}
