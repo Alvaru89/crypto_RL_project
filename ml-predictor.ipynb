{
 "cells": [
  {
   "cell_type": "markdown",
   "metadata": {},
   "source": [
    "# Machine learning - LightGBM"
   ]
  },
  {
   "cell_type": "code",
   "execution_count": 2,
   "metadata": {},
   "outputs": [
    {
     "name": "stdout",
     "output_type": "stream",
     "text": [
      "loading Stellar_wrangled.csv\n",
      "loading Polkadot_wrangled.csv\n",
      "loading Tron_wrangled.csv\n",
      "loading Litecoin_wrangled.csv\n",
      "loading WrappedBitcoin_wrangled.csv\n",
      "loading ChainLink_wrangled.csv\n",
      "loading Cardano_wrangled.csv\n",
      "loading BinanceCoin_wrangled.csv\n",
      "loading Tether_wrangled.csv\n",
      "loading Aave_wrangled.csv\n",
      "loading CryptocomCoin_wrangled.csv\n",
      "loading Cosmos_wrangled.csv\n",
      "loading Monero_wrangled.csv\n",
      "loading NEM_wrangled.csv\n",
      "loading XRP_wrangled.csv\n",
      "loading Bitcoin_wrangled.csv\n",
      "loading Ethereum_wrangled.csv\n",
      "loading Solana_wrangled.csv\n",
      "loading USDCoin_wrangled.csv\n",
      "loading Dogecoin_wrangled.csv\n",
      "loading Uniswap_wrangled.csv\n",
      "loading Iota_wrangled.csv\n",
      "loading EOS_wrangled.csv\n"
     ]
    }
   ],
   "source": [
    "import os\n",
    "import pandas as pd\n",
    "\n",
    "i=0\n",
    "coins=[]\n",
    "for file in [x for x in os.listdir(\"data/wrangled/\") if \"csv\" in x]:\n",
    "    print (\"loading \"+file)\n",
    "    temp_df=pd.read_csv(\"data/wrangled/\"+file)\n",
    "    temp_df[\"coin\"]=i \n",
    "    coins.append(file[:-13])\n",
    "    if i:\n",
    "        full_df=full_df.append(temp_df)\n",
    "    else:\n",
    "        full_df=temp_df\n",
    "    i+=1"
   ]
  },
  {
   "cell_type": "code",
   "execution_count": 25,
   "metadata": {},
   "outputs": [
    {
     "data": {
      "text/html": [
       "<div>\n",
       "<style scoped>\n",
       "    .dataframe tbody tr th:only-of-type {\n",
       "        vertical-align: middle;\n",
       "    }\n",
       "\n",
       "    .dataframe tbody tr th {\n",
       "        vertical-align: top;\n",
       "    }\n",
       "\n",
       "    .dataframe thead th {\n",
       "        text-align: right;\n",
       "    }\n",
       "</style>\n",
       "<table border=\"1\" class=\"dataframe\">\n",
       "  <thead>\n",
       "    <tr style=\"text-align: right;\">\n",
       "      <th></th>\n",
       "      <th>Performance</th>\n",
       "      <th>log_and_diffed_High</th>\n",
       "      <th>log_and_diffed_Low</th>\n",
       "      <th>log_and_diffed_Open</th>\n",
       "      <th>log_and_diffed_Close</th>\n",
       "      <th>log_and_diffed_Volume</th>\n",
       "      <th>log_and_diffed_Marketcap</th>\n",
       "      <th>coin</th>\n",
       "    </tr>\n",
       "  </thead>\n",
       "  <tbody>\n",
       "    <tr>\n",
       "      <th>1620</th>\n",
       "      <td>1.771252</td>\n",
       "      <td>-0.014365</td>\n",
       "      <td>-0.010361</td>\n",
       "      <td>-0.029119</td>\n",
       "      <td>0.01575</td>\n",
       "      <td>-0.006315</td>\n",
       "      <td>0.015879</td>\n",
       "      <td>15</td>\n",
       "    </tr>\n",
       "  </tbody>\n",
       "</table>\n",
       "</div>"
      ],
      "text/plain": [
       "      Performance  log_and_diffed_High  log_and_diffed_Low  \\\n",
       "1620     1.771252            -0.014365           -0.010361   \n",
       "\n",
       "      log_and_diffed_Open  log_and_diffed_Close  log_and_diffed_Volume  \\\n",
       "1620            -0.029119               0.01575              -0.006315   \n",
       "\n",
       "      log_and_diffed_Marketcap  coin  \n",
       "1620                  0.015879    15  "
      ]
     },
     "execution_count": 25,
     "metadata": {},
     "output_type": "execute_result"
    }
   ],
   "source": [
    "full_df.sample()"
   ]
  },
  {
   "cell_type": "code",
   "execution_count": 4,
   "metadata": {},
   "outputs": [
    {
     "data": {
      "text/plain": [
       "Index(['Performance', 'log_and_diffed_High', 'log_and_diffed_Low',\n",
       "       'log_and_diffed_Open', 'log_and_diffed_Close', 'log_and_diffed_Volume',\n",
       "       'log_and_diffed_Marketcap', 'coin'],\n",
       "      dtype='object')"
      ]
     },
     "execution_count": 4,
     "metadata": {},
     "output_type": "execute_result"
    }
   ],
   "source": [
    "full_df.columns"
   ]
  },
  {
   "cell_type": "code",
   "execution_count": 5,
   "metadata": {},
   "outputs": [
    {
     "data": {
      "text/plain": [
       "36079"
      ]
     },
     "execution_count": 5,
     "metadata": {},
     "output_type": "execute_result"
    }
   ],
   "source": [
    "len(full_df)"
   ]
  },
  {
   "cell_type": "code",
   "execution_count": 29,
   "metadata": {},
   "outputs": [],
   "source": [
    "full_df.reset_index(drop=True,inplace=True)"
   ]
  },
  {
   "cell_type": "code",
   "execution_count": 48,
   "metadata": {},
   "outputs": [
    {
     "data": {
      "text/plain": [
       "36077"
      ]
     },
     "execution_count": 48,
     "metadata": {},
     "output_type": "execute_result"
    }
   ],
   "source": [
    "import numpy as np\n",
    "full_df.replace([np.inf, -np.inf], np.nan, inplace=True)\n",
    "full_df.dropna(inplace=True)\n",
    "len(full_df)"
   ]
  },
  {
   "cell_type": "markdown",
   "metadata": {},
   "source": [
    "**1st attempt - 80-20 train/test split**"
   ]
  },
  {
   "cell_type": "code",
   "execution_count": 7,
   "metadata": {},
   "outputs": [
    {
     "data": {
      "text/plain": [
       "7215.8"
      ]
     },
     "execution_count": 7,
     "metadata": {},
     "output_type": "execute_result"
    }
   ],
   "source": [
    "0.2-36079\n",
    "#7215 results for testing"
   ]
  },
  {
   "cell_type": "code",
   "execution_count": 49,
   "metadata": {},
   "outputs": [
    {
     "name": "stderr",
     "output_type": "stream",
     "text": [
      "100%|██████████| 7215/7215 [00:01<00:00, 5945.94it/s]\n"
     ]
    }
   ],
   "source": [
    "import random\n",
    "\n",
    "window=1\n",
    "\n",
    "test_sample=random.sample(range(window,len(full_df)),k=7215)\n",
    "\n",
    "y_test=full_df.iloc[test_sample,:]\n",
    "X_test=[]\n",
    "\n",
    "from tqdm import tqdm \n",
    "\n",
    "for i in tqdm(test_sample):\n",
    "    for x in range(i-window,i):\n",
    "        X_test.append(list(full_df.iloc[x,:]))\n"
   ]
  },
  {
   "cell_type": "code",
   "execution_count": 50,
   "metadata": {},
   "outputs": [
    {
     "name": "stderr",
     "output_type": "stream",
     "text": [
      "100%|██████████| 36076/36076 [00:12<00:00, 2974.09it/s]\n"
     ]
    }
   ],
   "source": [
    "X=full_df.drop(labels=test_sample,axis=0)\n",
    "X_train=[]\n",
    "Y_train=[]\n",
    "\n",
    "from tqdm import tqdm \n",
    "\n",
    "for i in tqdm(range(window,len(full_df))):\n",
    "    for x in range(i-window,i):\n",
    "        X_train.append(list(full_df.iloc[x,:]))\n",
    "    Y_train.append(list(full_df.iloc[i,:]))"
   ]
  },
  {
   "cell_type": "code",
   "execution_count": 51,
   "metadata": {},
   "outputs": [],
   "source": [
    "Y_train_df=pd.DataFrame(Y_train)"
   ]
  },
  {
   "cell_type": "code",
   "execution_count": 52,
   "metadata": {},
   "outputs": [
    {
     "name": "stderr",
     "output_type": "stream",
     "text": [
      "  0%|          | 0/8 [00:00<?, ?it/s]"
     ]
    },
    {
     "name": "stdout",
     "output_type": "stream",
     "text": [
      "[LightGBM] [Warning] boosting is set=dart, boosting_type=gbdt will be ignored. Current value: boosting=dart\n"
     ]
    },
    {
     "name": "stderr",
     "output_type": "stream",
     "text": [
      " 12%|█▎        | 1/8 [01:43<12:06, 103.75s/it]"
     ]
    },
    {
     "name": "stdout",
     "output_type": "stream",
     "text": [
      "[LightGBM] [Warning] boosting is set=dart, boosting_type=gbdt will be ignored. Current value: boosting=dart\n"
     ]
    },
    {
     "name": "stderr",
     "output_type": "stream",
     "text": [
      " 25%|██▌       | 2/8 [04:04<12:34, 125.81s/it]"
     ]
    },
    {
     "name": "stdout",
     "output_type": "stream",
     "text": [
      "[LightGBM] [Warning] boosting is set=dart, boosting_type=gbdt will be ignored. Current value: boosting=dart\n"
     ]
    },
    {
     "name": "stderr",
     "output_type": "stream",
     "text": [
      " 38%|███▊      | 3/8 [06:19<10:49, 129.88s/it]"
     ]
    },
    {
     "name": "stdout",
     "output_type": "stream",
     "text": [
      "[LightGBM] [Warning] boosting is set=dart, boosting_type=gbdt will be ignored. Current value: boosting=dart\n"
     ]
    },
    {
     "name": "stderr",
     "output_type": "stream",
     "text": [
      " 50%|█████     | 4/8 [08:45<09:04, 136.11s/it]"
     ]
    },
    {
     "name": "stdout",
     "output_type": "stream",
     "text": [
      "[LightGBM] [Warning] boosting is set=dart, boosting_type=gbdt will be ignored. Current value: boosting=dart\n"
     ]
    },
    {
     "name": "stderr",
     "output_type": "stream",
     "text": [
      " 62%|██████▎   | 5/8 [10:28<06:12, 124.17s/it]"
     ]
    },
    {
     "name": "stdout",
     "output_type": "stream",
     "text": [
      "[LightGBM] [Warning] boosting is set=dart, boosting_type=gbdt will be ignored. Current value: boosting=dart\n"
     ]
    },
    {
     "name": "stderr",
     "output_type": "stream",
     "text": [
      " 75%|███████▌  | 6/8 [12:28<04:05, 122.84s/it]"
     ]
    },
    {
     "name": "stdout",
     "output_type": "stream",
     "text": [
      "[LightGBM] [Warning] boosting is set=dart, boosting_type=gbdt will be ignored. Current value: boosting=dart\n"
     ]
    },
    {
     "name": "stderr",
     "output_type": "stream",
     "text": [
      " 88%|████████▊ | 7/8 [14:23<02:00, 120.08s/it]"
     ]
    },
    {
     "name": "stdout",
     "output_type": "stream",
     "text": [
      "[LightGBM] [Warning] boosting is set=dart, boosting_type=gbdt will be ignored. Current value: boosting=dart\n"
     ]
    },
    {
     "name": "stderr",
     "output_type": "stream",
     "text": [
      "100%|██████████| 8/8 [15:56<00:00, 119.51s/it]\n"
     ]
    }
   ],
   "source": [
    "from lightgbm import LGBMRegressor\n",
    "\n",
    "model= LGBMRegressor(boosting='dart',n_estimators=1000,max_depth=150,num_leaves=80,n_jobs=-1)\n",
    "\n",
    "y_pred=[]\n",
    "for i in tqdm(range(len(Y_train_df.columns))):\n",
    "    model.fit(X=X_train, y=Y_train_df.iloc[:,i])\n",
    "    y_pred.append(model.predict(X_test))"
   ]
  },
  {
   "cell_type": "code",
   "execution_count": 54,
   "metadata": {},
   "outputs": [
    {
     "name": "stdout",
     "output_type": "stream",
     "text": [
      "5.130845030574543\n",
      "0.04100996914412226\n",
      "0.035405384822692704\n",
      "0.006016002868956268\n",
      "0.047757749997126335\n",
      "0.4000253337227069\n",
      "0.05229695748076511\n",
      "0.12663493305660345\n"
     ]
    }
   ],
   "source": [
    "from sklearn.metrics import mean_squared_error\n",
    "\n",
    "y_test_df=pd.DataFrame(y_test)\n",
    "\n",
    "for i in range(len(y_pred)):\n",
    "    print(mean_squared_error(y_test_df.iloc[:,i],y_pred[i],squared=False))"
   ]
  },
  {
   "cell_type": "code",
   "execution_count": 68,
   "metadata": {},
   "outputs": [
    {
     "data": {
      "text/plain": [
       "Performance                 -1.314999\n",
       "log_and_diffed_High          0.080495\n",
       "log_and_diffed_Low           0.215327\n",
       "log_and_diffed_Open          0.224496\n",
       "log_and_diffed_Close        -0.018203\n",
       "log_and_diffed_Volume        0.102467\n",
       "log_and_diffed_Marketcap    -0.018203\n",
       "coin                        21.000000\n",
       "Name: 33434, dtype: float64"
      ]
     },
     "execution_count": 68,
     "metadata": {},
     "output_type": "execute_result"
    }
   ],
   "source": [
    "y_test_df.iloc[0,:]"
   ]
  },
  {
   "cell_type": "code",
   "execution_count": 69,
   "metadata": {},
   "outputs": [
    {
     "data": {
      "text/plain": [
       "0     5.227814\n",
       "1     0.098988\n",
       "2     0.199357\n",
       "3     0.216423\n",
       "4     0.035886\n",
       "5     0.128101\n",
       "6     0.053900\n",
       "7    20.788705\n",
       "Name: 0, dtype: float64"
      ]
     },
     "execution_count": 69,
     "metadata": {},
     "output_type": "execute_result"
    }
   ],
   "source": [
    "y_pred_df=pd.DataFrame(y_pred)\n",
    "y_pred_df.iloc[:,0]"
   ]
  },
  {
   "cell_type": "code",
   "execution_count": null,
   "metadata": {},
   "outputs": [],
   "source": [
    "model.save_model('model1.txt')\n",
    "# model = lgb.Booster(model_file='lgb_classifier.txt')"
   ]
  },
  {
   "cell_type": "markdown",
   "metadata": {},
   "source": [
    "Cross-validation"
   ]
  },
  {
   "cell_type": "code",
   "execution_count": null,
   "metadata": {},
   "outputs": [],
   "source": []
  },
  {
   "cell_type": "code",
   "execution_count": null,
   "metadata": {},
   "outputs": [],
   "source": []
  },
  {
   "cell_type": "code",
   "execution_count": null,
   "metadata": {},
   "outputs": [],
   "source": []
  },
  {
   "cell_type": "code",
   "execution_count": null,
   "metadata": {},
   "outputs": [],
   "source": []
  },
  {
   "cell_type": "code",
   "execution_count": null,
   "metadata": {},
   "outputs": [],
   "source": [
    "from sklearn.model_selection import cross_val_score\n",
    "scores = cross_val_score(model, \n",
    "                         X, \n",
    "                         y, \n",
    "                         scoring='neg_root_mean_squared_error', \n",
    "                         cv=10, verbose=2)\n",
    "np.mean(-scores)"
   ]
  }
 ],
 "metadata": {
  "kernelspec": {
   "display_name": "Python [conda env:ironhack_env]",
   "language": "python",
   "name": "conda-env-ironhack_env-py"
  },
  "language_info": {
   "codemirror_mode": {
    "name": "ipython",
    "version": 3
   },
   "file_extension": ".py",
   "mimetype": "text/x-python",
   "name": "python",
   "nbconvert_exporter": "python",
   "pygments_lexer": "ipython3",
   "version": "3.8.5"
  }
 },
 "nbformat": 4,
 "nbformat_minor": 4
}
